{
 "cells": [
  {
   "cell_type": "markdown",
   "metadata": {},
   "source": [
    "## Excercise 10"
   ]
  },
  {
   "cell_type": "markdown",
   "metadata": {},
   "source": [
    "# Task 1"
   ]
  },
  {
   "cell_type": "code",
   "execution_count": null,
   "metadata": {},
   "outputs": [],
   "source": [
    "mutable struct Node\n",
    "    ip::Int\n",
    "    neighbours::Array{Tuple{Node,Int}}\n",
    "    risk::Union{Float64, Nothing}\n",
    "    predecessor::Union{Node, Nothing}\n",
    "    probability::Float64\n",
    "end"
   ]
  },
  {
   "cell_type": "code",
   "execution_count": 16,
   "metadata": {},
   "outputs": [
    {
     "data": {
      "text/plain": [
       "initialize_single_source! (generic function with 1 method)"
      ]
     },
     "execution_count": 16,
     "metadata": {},
     "output_type": "execute_result"
    }
   ],
   "source": [
    "function initialize_single_source!(graph, start)\n",
    "    for v in graph\n",
    "        v.risk=typemax(Float64)\n",
    "        v.predecessor = nothing\n",
    "    end\n",
    "    start.risk=0\n",
    "end"
   ]
  },
  {
   "cell_type": "markdown",
   "metadata": {},
   "source": [
    "# Task 2"
   ]
  },
  {
   "cell_type": "code",
   "execution_count": 17,
   "metadata": {},
   "outputs": [
    {
     "data": {
      "text/plain": [
       "relax! (generic function with 1 method)"
      ]
     },
     "execution_count": 17,
     "metadata": {},
     "output_type": "execute_result"
    }
   ],
   "source": [
    "function relax!(from_node,to_node,cost)\n",
    "    if to_node.risk > from_node.risk + cost/to_node.probability\n",
    "        to_node.risk = from_node.risk + cost/to_node.probability\n",
    "        to_node.predecessor = from_node\n",
    "    end\n",
    "end"
   ]
  },
  {
   "cell_type": "markdown",
   "metadata": {},
   "source": [
    "# Task 3"
   ]
  },
  {
   "cell_type": "code",
   "execution_count": 33,
   "metadata": {},
   "outputs": [
    {
     "data": {
      "text/plain": [
       "dijkstra! (generic function with 1 method)"
      ]
     },
     "execution_count": 33,
     "metadata": {},
     "output_type": "execute_result"
    }
   ],
   "source": [
    "function dijkstra!(graph,start)\n",
    "    initialize_single_source!(graph, start)\n",
    "    S = PriorityQueue()\n",
    "    Q = PriorityQueue()\n",
    "    for v in graph\n",
    "        enqueue!(Q,v,v.risk)\n",
    "    end\n",
    "    while length(Q) != 0\n",
    "        index = 1\n",
    "        u = dequeue!(Q)\n",
    "        enqueue!(S,u,u.risk)\n",
    "        for v in u.neighbours\n",
    "            relax!(u,v,u.neighbours[index][2])\n",
    "            index = index + 1\n",
    "        end\n",
    "    end\n",
    "end"
   ]
  },
  {
   "cell_type": "markdown",
   "metadata": {},
   "source": [
    "# Task 4"
   ]
  },
  {
   "cell_type": "code",
   "execution_count": 40,
   "metadata": {},
   "outputs": [
    {
     "data": {
      "text/plain": [
       "bellman_ford! (generic function with 1 method)"
      ]
     },
     "execution_count": 40,
     "metadata": {},
     "output_type": "execute_result"
    }
   ],
   "source": [
    "function bellman_ford!(graph,start)\n",
    "    for i in 1:(length(graph)-1)\n",
    "        for u in graph[i].neighbours\n",
    "            relax!(graph[i],u[1],u[2])\n",
    "        end\n",
    "    end\n",
    "    for i in 1:(length(graph)-1)\n",
    "        for u in graph[i].neighbours\n",
    "            if graph[i].risk > u[1].risk + u[2]/u[1].probability\n",
    "                return false\n",
    "        \tend\n",
    "    \tend \n",
    "    end\n",
    "    return true\n",
    "end"
   ]
  }
 ],
 "metadata": {
  "kernelspec": {
   "display_name": "Julia 1.0.1",
   "language": "julia",
   "name": "julia-1.0"
  },
  "language_info": {
   "file_extension": ".jl",
   "mimetype": "application/julia",
   "name": "julia",
   "version": "1.0.1"
  }
 },
 "nbformat": 4,
 "nbformat_minor": 2
}

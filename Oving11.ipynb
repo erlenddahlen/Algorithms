{
 "cells": [
  {
   "cell_type": "markdown",
   "metadata": {},
   "source": [
    "## Excercise 11"
   ]
  },
  {
   "cell_type": "markdown",
   "metadata": {},
   "source": [
    "# Task 1"
   ]
  },
  {
   "cell_type": "code",
   "execution_count": 10,
   "metadata": {},
   "outputs": [
    {
     "data": {
      "text/plain": [
       "floyd_warshall (generic function with 1 method)"
      ]
     },
     "execution_count": 10,
     "metadata": {},
     "output_type": "execute_result"
    }
   ],
   "source": [
    "function floyd_warshall(adjacency_matrix, nodes, f, g)\n",
    "    D = adjacency_matrix\n",
    "    for k = 1:nodes\n",
    "        for i = 1:nodes\n",
    "            for j = 1:nodes\n",
    "                D[i,j] = f(D[i,j] , g(D[i,k],D[k,j]))\n",
    "            end\n",
    "        end\n",
    "    end\n",
    "    return D\n",
    "end"
   ]
  },
  {
   "cell_type": "markdown",
   "metadata": {},
   "source": [
    "# Task 2"
   ]
  },
  {
   "cell_type": "code",
   "execution_count": 11,
   "metadata": {},
   "outputs": [
    {
     "data": {
      "text/plain": [
       "g (generic function with 1 method)"
      ]
     },
     "execution_count": 11,
     "metadata": {},
     "output_type": "execute_result"
    }
   ],
   "source": [
    "function transitive_closure(adjacency_matrix, nodes)\n",
    "    T = adjacency_matrix\n",
    "    for i = 1:nodes\n",
    "        for j = 1:nodes\n",
    "            if i == j || T[i,j]<Inf\n",
    "                T[i,j] = 1\n",
    "            else\n",
    "                T[i,j]=0\n",
    "            end\n",
    "        end\n",
    "    end\n",
    "    return floyd_warshall(T, nodes, f, g)\n",
    "end\n",
    "\n",
    "function f(a,b)\n",
    "    if a>0 || b>0\n",
    "        return 1\n",
    "    else\n",
    "        return 0\n",
    "    end\n",
    "end\n",
    "        \n",
    "function g(a,b)\n",
    "    if a == 1 && b == 1\n",
    "        return 1\n",
    "    else\n",
    "        return 0\n",
    "    end\n",
    "end"
   ]
  },
  {
   "cell_type": "markdown",
   "metadata": {},
   "source": [
    "# Task 3"
   ]
  },
  {
   "cell_type": "code",
   "execution_count": 12,
   "metadata": {},
   "outputs": [
    {
     "data": {
      "text/plain": [
       "create_preference_matrix (generic function with 1 method)"
      ]
     },
     "execution_count": 12,
     "metadata": {},
     "output_type": "execute_result"
    }
   ],
   "source": [
    "function create_preference_matrix(ballots, voters, candidates)\n",
    "    T = zeros(candidates, candidates)\n",
    "    for vote in ballots\n",
    "        for i = 1:candidates\n",
    "            c = vote[i]\n",
    "            num = c - 'A' +1\n",
    "            for j = (i+1):candidates\n",
    "                c2 = vote[j]\n",
    "                num2 = c2 - 'A' +1\n",
    "                T[num,num2] = T[num,num2]+1\n",
    "            end\n",
    "        end\n",
    "    end\n",
    "    return T\n",
    "end\n",
    "    "
   ]
  },
  {
   "cell_type": "markdown",
   "metadata": {},
   "source": [
    "# Task 4"
   ]
  },
  {
   "cell_type": "code",
   "execution_count": 15,
   "metadata": {},
   "outputs": [
    {
     "data": {
      "text/plain": [
       "g (generic function with 1 method)"
      ]
     },
     "execution_count": 15,
     "metadata": {},
     "output_type": "execute_result"
    }
   ],
   "source": [
    "function find_strongest_paths(preference_matrix, candidates)\n",
    "    T = zero(candidates, candidates)\n",
    "    for i = 1:candidates\n",
    "        for j = 1:candidates\n",
    "            if i != j\n",
    "                if preference_matrix[i,j]>preference_matrix[j,i]\n",
    "                    T[i,j] = preference_matrix[i,j]\n",
    "                else\n",
    "                    T[j,i] = preference_matrix[j,i]\n",
    "                end\n",
    "            end \n",
    "        end\n",
    "    end\n",
    "  return floyd_warshall(T, candidates, f, g)\n",
    "end\n",
    "\n",
    "function f(a,b)\n",
    "    if a>b\n",
    "        return a\n",
    "    else\n",
    "        return b\n",
    "    end\n",
    "end\n",
    "        \n",
    "function g(a,b)\n",
    "    if a<b\n",
    "        return a\n",
    "    else\n",
    "        return b\n",
    "    end\n",
    "end\n",
    "    "
   ]
  },
  {
   "cell_type": "markdown",
   "metadata": {},
   "source": [
    "# Task 5"
   ]
  },
  {
   "cell_type": "code",
   "execution_count": 16,
   "metadata": {},
   "outputs": [
    {
     "data": {
      "text/plain": [
       "find_schulze_ranking (generic function with 1 method)"
      ]
     },
     "execution_count": 16,
     "metadata": {},
     "output_type": "execute_result"
    }
   ],
   "source": [
    "function find_schulze_ranking(strongest_paths, candidates)\n",
    "    S = strongest_paths\n",
    "    word = zeros(candidates)\n",
    "    indeks = 1\n",
    "    for i = 1:candidates\n",
    "        temp = S[i,1]\n",
    "        for j = 2:candidates\n",
    "            if S[i,j]>temp\n",
    "                temp = S[i,j]\n",
    "            end\n",
    "        end\n",
    "        \n",
    "        indeks = 1\n",
    "    end\n",
    "    return word\n",
    "end\n",
    "    \n",
    "    \n",
    "    \n",
    "    "
   ]
  },
  {
   "cell_type": "code",
   "execution_count": null,
   "metadata": {},
   "outputs": [],
   "source": []
  }
 ],
 "metadata": {
  "kernelspec": {
   "display_name": "Julia 1.0.1",
   "language": "julia",
   "name": "julia-1.0"
  },
  "language_info": {
   "file_extension": ".jl",
   "mimetype": "application/julia",
   "name": "julia",
   "version": "1.0.1"
  }
 },
 "nbformat": 4,
 "nbformat_minor": 2
}
